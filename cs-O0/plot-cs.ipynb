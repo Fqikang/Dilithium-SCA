{
 "cells": [
  {
   "cell_type": "code",
   "execution_count": 2,
   "metadata": {},
   "outputs": [
    {
     "name": "stdout",
     "output_type": "stream",
     "text": [
      "Using matplotlib backend: TkAgg\n"
     ]
    }
   ],
   "source": [
    "%matplotlib auto\n",
    "import numpy as np\n",
    "import matplotlib.pyplot as plt\n",
    "import csv"
   ]
  },
  {
   "cell_type": "code",
   "execution_count": null,
   "metadata": {},
   "outputs": [],
   "source": [
    "# plot ldr traces with different HW(0-32) in two model\n",
    "\n",
    "# HWmodel\n",
    "for i in range(0, 33):\n",
    "    trc = np.loadtxt(f\"ldr_profile/HW_trc/hw{i}.trc\")\n",
    "    plt.plot(trc)# , label = f\"{i}\")\n",
    "plt.legend()\n",
    "plt.show()\n",
    "\n",
    "# powermodel\n",
    "plt.figure()\n",
    "for i in range(0, 33):\n",
    "    trc = np.loadtxt(f\"ldr_profile/HW_trc/hw{i}_trc.trc\")\n",
    "    plt.plot(trc, label = f\"{i}\")\n",
    "plt.legend()\n",
    "plt.show()\n"
   ]
  },
  {
   "cell_type": "code",
   "execution_count": null,
   "metadata": {},
   "outputs": [],
   "source": [
    "for i in range(0, 500):\n",
    "    trc = np.loadtxt(f\"ldr_profile/hw2/{i+1}.trc\")\n",
    "    plt.plot(trc)\n",
    "plt.show()"
   ]
  },
  {
   "cell_type": "code",
   "execution_count": null,
   "metadata": {},
   "outputs": [],
   "source": [
    "# show the diff between traces from hw13 and hw14\n",
    "plt.figure()\n",
    "for i in range(0, 500):\n",
    "    trc = np.loadtxt(f\"ldr_profile/hw13/{i+1}.trc\")\n",
    "    plt.plot(trc, label='hw13', color=\"red\")\n",
    "\n",
    "for i in range(0, 500):\n",
    "    trc = np.loadtxt(f\"ldr_profile/hw14/{i+1}.trc\")\n",
    "    plt.plot(trc, label=\"hw14\", color='blue')\n",
    "\n",
    "plt.show()"
   ]
  },
  {
   "cell_type": "code",
   "execution_count": 5,
   "metadata": {},
   "outputs": [
    {
     "name": "stderr",
     "output_type": "stream",
     "text": [
      "No artists with labels found to put in legend.  Note that artists whose label start with an underscore are ignored when legend() is called with no argument.\n",
      "No artists with labels found to put in legend.  Note that artists whose label start with an underscore are ignored when legend() is called with no argument.\n"
     ]
    }
   ],
   "source": [
    "# plot str traces with different HW(0-32) in two model\n",
    "\n",
    "# HWmodel\n",
    "for i in range(0, 33):\n",
    "    trc = np.loadtxt(f\"str_profile/HW_trc/hw{i}.trc\")\n",
    "    plt.plot(trc)# , label = f\"{i}\")\n",
    "plt.legend()\n",
    "plt.show()\n",
    "\n",
    "# powermodel\n",
    "plt.figure()\n",
    "for i in range(0, 33):\n",
    "    trc = np.loadtxt(f\"str_profile/HW_trc/hw{i}_trc.trc\")\n",
    "    plt.plot(trc)# , label = f\"{i}\")\n",
    "plt.legend()\n",
    "plt.show()\n"
   ]
  },
  {
   "cell_type": "code",
   "execution_count": 1,
   "metadata": {},
   "outputs": [
    {
     "ename": "NameError",
     "evalue": "name 'plt' is not defined",
     "output_type": "error",
     "traceback": [
      "\u001b[0;31m---------------------------------------------------------------------------\u001b[0m",
      "\u001b[0;31mNameError\u001b[0m                                 Traceback (most recent call last)",
      "Cell \u001b[0;32mIn[1], line 2\u001b[0m\n\u001b[1;32m      1\u001b[0m \u001b[38;5;66;03m# plot str traces with different HW(0-32) in two model\u001b[39;00m\n\u001b[0;32m----> 2\u001b[0m \u001b[43mplt\u001b[49m\u001b[38;5;241m.\u001b[39mfigure()\n\u001b[1;32m      3\u001b[0m \u001b[38;5;28;01mfor\u001b[39;00m i \u001b[38;5;129;01min\u001b[39;00m \u001b[38;5;28mrange\u001b[39m(\u001b[38;5;241m0\u001b[39m, \u001b[38;5;241m33\u001b[39m):\n\u001b[1;32m      4\u001b[0m     trc \u001b[38;5;241m=\u001b[39m np\u001b[38;5;241m.\u001b[39mloadtxt(\u001b[38;5;124mf\u001b[39m\u001b[38;5;124m\"\u001b[39m\u001b[38;5;124mstr_profile/HW_trc/hw\u001b[39m\u001b[38;5;132;01m{\u001b[39;00mi\u001b[38;5;132;01m}\u001b[39;00m\u001b[38;5;124m.trc\u001b[39m\u001b[38;5;124m\"\u001b[39m)\n",
      "\u001b[0;31mNameError\u001b[0m: name 'plt' is not defined"
     ]
    }
   ],
   "source": [
    "# plot str traces with different HW(0-32) in two model\n",
    "plt.figure()\n",
    "for i in range(0, 33):\n",
    "    trc = np.loadtxt(f\"str_profile/HW_trc/hw{i}.trc\")\n",
    "    plt.plot(trc)# , label = f\"{i}\")\n",
    "plt.legend()\n",
    "plt.show()\n",
    "\n",
    "plt.figure()\n",
    "for i in range(0, 33):\n",
    "    trc = np.loadtxt(f\"str_profile/HW_trc/hw{i}_trc.trc\")\n",
    "    plt.plot(trc, label = f\"{i}\")\n",
    "plt.legend()\n",
    "plt.show()"
   ]
  },
  {
   "cell_type": "code",
   "execution_count": 3,
   "metadata": {},
   "outputs": [],
   "source": [
    "# show diff between hw0 and hw1\n",
    "plt.figure()\n",
    "for i in range(0, 200):\n",
    "    trc = np.loadtxt(f\"str_profile/hw0/{i+1}.trc\")\n",
    "    plt.plot(trc, label = f\"{i}\")\n",
    "plt.legend()\n",
    "plt.show()\n",
    "plt.figure()\n",
    "for i in range(0, 200):\n",
    "    trc = np.loadtxt(f\"str_profile/hw32/{i+1}.trc\")\n",
    "    plt.plot(trc, label = f\"{i}\")\n",
    "plt.legend()\n",
    "plt.show()"
   ]
  },
  {
   "cell_type": "code",
   "execution_count": null,
   "metadata": {},
   "outputs": [],
   "source": [
    "# plot HW distribution of range [-Q, Q] \n",
    "def HW(a):\n",
    "    count = 0\n",
    "    a = a & 0xFFFFFFFF\n",
    "    while a:\n",
    "        a &= a - 1\n",
    "        count += 1\n",
    "    return count\n",
    "hw_cnt=np.zeros(33)\n",
    "Q = 8380417\n",
    "for s in range(-Q,Q+1):\n",
    "    hw = HW(s)\n",
    "    hw_cnt[hw]+=1\n",
    "plt.plot(hw_cnt)\n",
    "plt.xlabel('hw')\n",
    "plt.ylabel('cnt')\n",
    "plt.show()"
   ]
  }
 ],
 "metadata": {
  "kernelspec": {
   "display_name": "Python 3",
   "language": "python",
   "name": "python3"
  },
  "language_info": {
   "codemirror_mode": {
    "name": "ipython",
    "version": 3
   },
   "file_extension": ".py",
   "mimetype": "text/x-python",
   "name": "python",
   "nbconvert_exporter": "python",
   "pygments_lexer": "ipython3",
   "version": "3.10.12"
  }
 },
 "nbformat": 4,
 "nbformat_minor": 2
}
